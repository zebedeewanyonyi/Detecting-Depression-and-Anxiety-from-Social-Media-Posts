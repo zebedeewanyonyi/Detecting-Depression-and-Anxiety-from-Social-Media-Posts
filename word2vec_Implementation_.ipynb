{
  "cells": [
    {
      "cell_type": "code",
      "source": [
        "from google.colab import drive\n",
        "drive.mount('/content/drive')"
      ],
      "metadata": {
        "colab": {
          "base_uri": "https://localhost:8080/"
        },
        "id": "euyRlUr6aRYK",
        "outputId": "368c7ed9-f530-4c8d-8aae-52fd357e3e4e"
      },
      "id": "euyRlUr6aRYK",
      "execution_count": 1,
      "outputs": [
        {
          "output_type": "stream",
          "name": "stdout",
          "text": [
            "Mounted at /content/drive\n"
          ]
        }
      ]
    },
    {
      "cell_type": "code",
      "source": [
        "pip install nltk"
      ],
      "metadata": {
        "colab": {
          "base_uri": "https://localhost:8080/"
        },
        "id": "14PEYbhobwUS",
        "outputId": "93594bb5-2e24-4126-be0a-59e59be19304"
      },
      "id": "14PEYbhobwUS",
      "execution_count": 7,
      "outputs": [
        {
          "output_type": "stream",
          "name": "stdout",
          "text": [
            "Requirement already satisfied: nltk in /usr/local/lib/python3.10/dist-packages (3.8.1)\n",
            "Requirement already satisfied: click in /usr/local/lib/python3.10/dist-packages (from nltk) (8.1.7)\n",
            "Requirement already satisfied: joblib in /usr/local/lib/python3.10/dist-packages (from nltk) (1.3.2)\n",
            "Requirement already satisfied: regex>=2021.8.3 in /usr/local/lib/python3.10/dist-packages (from nltk) (2023.6.3)\n",
            "Requirement already satisfied: tqdm in /usr/local/lib/python3.10/dist-packages (from nltk) (4.66.1)\n"
          ]
        }
      ]
    },
    {
      "cell_type": "code",
      "execution_count": 8,
      "id": "a62b0741",
      "metadata": {
        "colab": {
          "base_uri": "https://localhost:8080/"
        },
        "id": "a62b0741",
        "outputId": "6f88da08-cb0b-4df5-fde8-c55d882d98d4"
      },
      "outputs": [
        {
          "output_type": "stream",
          "name": "stderr",
          "text": [
            "[nltk_data] Downloading package punkt to /root/nltk_data...\n",
            "[nltk_data]   Unzipping tokenizers/punkt.zip.\n"
          ]
        },
        {
          "output_type": "execute_result",
          "data": {
            "text/plain": [
              "True"
            ]
          },
          "metadata": {},
          "execution_count": 8
        }
      ],
      "source": [
        "import re\n",
        "import nltk\n",
        "import gensim\n",
        "import numpy as np\n",
        "from sklearn.linear_model import LogisticRegression\n",
        "from sklearn.naive_bayes import MultinomialNB\n",
        "from sklearn.model_selection import train_test_split\n",
        "from sklearn.svm import SVC\n",
        "from sklearn.metrics import classification_report\n",
        "from nltk.corpus import stopwords\n",
        "from sklearn.metrics import ConfusionMatrixDisplay,PrecisionRecallDisplay,accuracy_score,confusion_matrix\n",
        "nltk.download('punkt')"
      ]
    },
    {
      "cell_type": "markdown",
      "id": "92b4b5bb",
      "metadata": {
        "id": "92b4b5bb"
      },
      "source": [
        "Functions"
      ]
    },
    {
      "cell_type": "code",
      "execution_count": 9,
      "id": "97998895",
      "metadata": {
        "id": "97998895"
      },
      "outputs": [],
      "source": [
        "# Functions\n",
        " #Preprocess the dataset\n",
        "def preprocess_text(text):\n",
        "\n",
        "    # Remove URLs\n",
        "    text = re.sub(r'http\\S+|www\\S+', '', text)\n",
        "\n",
        "    # Remove special characters and numbers\n",
        "    text = re.sub(r'[^a-zA-Z\\s]', '', text)\n",
        "\n",
        "    # Convert to lowercase\n",
        "    text = text.lower()\n",
        "#     stop_words = set(stopwords.words('english'))\n",
        "#     text = text.split()\n",
        "#     text = [word for word in text if word not in stop_words]\n",
        "    return text\n",
        "\n",
        "# Tokenize the text\n",
        "def tokenize_text(text):\n",
        "    tokens = nltk.word_tokenize(text)\n",
        "    return tokens\n",
        "\n",
        "# Train the Word2Vec model\n",
        "def train_word2vec_model(tokenized_text):\n",
        "    model = gensim.models.Word2Vec(\n",
        "        tokenized_text,\n",
        "        vector_size=300,  # Size of the word vectors\n",
        "        window=5,          # Maximum distance between the current and predicted word within a sentence\n",
        "        min_count=5,      # Ignore words with a frequency lower than this\n",
        "        negative=20,\n",
        "        workers=3,\n",
        "        epochs=20,\n",
        "        sg=1, # 1 for skip-gram, 0 for CBOW\n",
        "        hs=1, # 0 for negative sampling, 1 for hierarchical softmax\n",
        "        sample=0.001,\n",
        "        alpha=0.025,\n",
        "        min_alpha=0.0001,\n",
        "        seed=14,\n",
        "\n",
        "    )\n",
        "    return model\n",
        "\n",
        "\n",
        "#         return np.mean(vectors, axis=0)\n",
        "def convert_text_to_vectors(tokenized_text, word2vec_model):\n",
        "    vectors = []\n",
        "    for token in tokenized_text:\n",
        "        if token in word2vec_model.wv.key_to_index:\n",
        "            vectors.append(word2vec_model.wv.get_vector(token))\n",
        "    if len(vectors) == 0:\n",
        "        return np.zeros(word2vec_model.vector_size)\n",
        "    else:\n",
        "        return np.mean(vectors, axis=0)"
      ]
    },
    {
      "cell_type": "code",
      "execution_count": 10,
      "id": "dbc916e3",
      "metadata": {
        "id": "dbc916e3"
      },
      "outputs": [],
      "source": [
        "import pandas as pd\n",
        "data = pd.read_csv('/content/drive/MyDrive/subreddits(3).csv')\n",
        "\n",
        "data['Text'] = data['Text'].apply(preprocess_text)\n",
        "\n",
        "# Tokenize the text\n",
        "data['tokens'] = data['Text'].apply(tokenize_text)\n"
      ]
    },
    {
      "cell_type": "code",
      "execution_count": 11,
      "id": "42b035f2",
      "metadata": {
        "colab": {
          "base_uri": "https://localhost:8080/",
          "height": 206
        },
        "id": "42b035f2",
        "outputId": "80502f71-d206-41fa-e2b7-e9edcd130b8a"
      },
      "outputs": [
        {
          "output_type": "execute_result",
          "data": {
            "text/plain": [
              "                                               Title  \\\n",
              "0     Does it feel like your brain \"short circuits\"?   \n",
              "1  Does anyone else feel comforted by lying on th...   \n",
              "2                               Anxiety about Hentai   \n",
              "3      Trying to do my best - unsure if an obsession   \n",
              "4  How do I get over my fear of driving/ getting ...   \n",
              "\n",
              "                                                Text Subreddit  \\\n",
              "0  this has happened once before only during a pa...   Anxiety   \n",
              "1  when im really anxious a lot of times my insti...   Anxiety   \n",
              "2  hey\\n\\ni know this may seem completely odd for...   Anxiety   \n",
              "3  ive been diagnosed with gad for quite sometime...   Anxiety   \n",
              "4  i live in ohio and i would like to learn how t...   Anxiety   \n",
              "\n",
              "                                              tokens  \n",
              "0  [this, has, happened, once, before, only, duri...  \n",
              "1  [when, im, really, anxious, a, lot, of, times,...  \n",
              "2  [hey, i, know, this, may, seem, completely, od...  \n",
              "3  [ive, been, diagnosed, with, gad, for, quite, ...  \n",
              "4  [i, live, in, ohio, and, i, would, like, to, l...  "
            ],
            "text/html": [
              "\n",
              "  <div id=\"df-ee20b72a-ac46-4b3b-b495-d61e6022d281\" class=\"colab-df-container\">\n",
              "    <div>\n",
              "<style scoped>\n",
              "    .dataframe tbody tr th:only-of-type {\n",
              "        vertical-align: middle;\n",
              "    }\n",
              "\n",
              "    .dataframe tbody tr th {\n",
              "        vertical-align: top;\n",
              "    }\n",
              "\n",
              "    .dataframe thead th {\n",
              "        text-align: right;\n",
              "    }\n",
              "</style>\n",
              "<table border=\"1\" class=\"dataframe\">\n",
              "  <thead>\n",
              "    <tr style=\"text-align: right;\">\n",
              "      <th></th>\n",
              "      <th>Title</th>\n",
              "      <th>Text</th>\n",
              "      <th>Subreddit</th>\n",
              "      <th>tokens</th>\n",
              "    </tr>\n",
              "  </thead>\n",
              "  <tbody>\n",
              "    <tr>\n",
              "      <th>0</th>\n",
              "      <td>Does it feel like your brain \"short circuits\"?</td>\n",
              "      <td>this has happened once before only during a pa...</td>\n",
              "      <td>Anxiety</td>\n",
              "      <td>[this, has, happened, once, before, only, duri...</td>\n",
              "    </tr>\n",
              "    <tr>\n",
              "      <th>1</th>\n",
              "      <td>Does anyone else feel comforted by lying on th...</td>\n",
              "      <td>when im really anxious a lot of times my insti...</td>\n",
              "      <td>Anxiety</td>\n",
              "      <td>[when, im, really, anxious, a, lot, of, times,...</td>\n",
              "    </tr>\n",
              "    <tr>\n",
              "      <th>2</th>\n",
              "      <td>Anxiety about Hentai</td>\n",
              "      <td>hey\\n\\ni know this may seem completely odd for...</td>\n",
              "      <td>Anxiety</td>\n",
              "      <td>[hey, i, know, this, may, seem, completely, od...</td>\n",
              "    </tr>\n",
              "    <tr>\n",
              "      <th>3</th>\n",
              "      <td>Trying to do my best - unsure if an obsession</td>\n",
              "      <td>ive been diagnosed with gad for quite sometime...</td>\n",
              "      <td>Anxiety</td>\n",
              "      <td>[ive, been, diagnosed, with, gad, for, quite, ...</td>\n",
              "    </tr>\n",
              "    <tr>\n",
              "      <th>4</th>\n",
              "      <td>How do I get over my fear of driving/ getting ...</td>\n",
              "      <td>i live in ohio and i would like to learn how t...</td>\n",
              "      <td>Anxiety</td>\n",
              "      <td>[i, live, in, ohio, and, i, would, like, to, l...</td>\n",
              "    </tr>\n",
              "  </tbody>\n",
              "</table>\n",
              "</div>\n",
              "    <div class=\"colab-df-buttons\">\n",
              "\n",
              "  <div class=\"colab-df-container\">\n",
              "    <button class=\"colab-df-convert\" onclick=\"convertToInteractive('df-ee20b72a-ac46-4b3b-b495-d61e6022d281')\"\n",
              "            title=\"Convert this dataframe to an interactive table.\"\n",
              "            style=\"display:none;\">\n",
              "\n",
              "  <svg xmlns=\"http://www.w3.org/2000/svg\" height=\"24px\" viewBox=\"0 -960 960 960\">\n",
              "    <path d=\"M120-120v-720h720v720H120Zm60-500h600v-160H180v160Zm220 220h160v-160H400v160Zm0 220h160v-160H400v160ZM180-400h160v-160H180v160Zm440 0h160v-160H620v160ZM180-180h160v-160H180v160Zm440 0h160v-160H620v160Z\"/>\n",
              "  </svg>\n",
              "    </button>\n",
              "\n",
              "  <style>\n",
              "    .colab-df-container {\n",
              "      display:flex;\n",
              "      gap: 12px;\n",
              "    }\n",
              "\n",
              "    .colab-df-convert {\n",
              "      background-color: #E8F0FE;\n",
              "      border: none;\n",
              "      border-radius: 50%;\n",
              "      cursor: pointer;\n",
              "      display: none;\n",
              "      fill: #1967D2;\n",
              "      height: 32px;\n",
              "      padding: 0 0 0 0;\n",
              "      width: 32px;\n",
              "    }\n",
              "\n",
              "    .colab-df-convert:hover {\n",
              "      background-color: #E2EBFA;\n",
              "      box-shadow: 0px 1px 2px rgba(60, 64, 67, 0.3), 0px 1px 3px 1px rgba(60, 64, 67, 0.15);\n",
              "      fill: #174EA6;\n",
              "    }\n",
              "\n",
              "    .colab-df-buttons div {\n",
              "      margin-bottom: 4px;\n",
              "    }\n",
              "\n",
              "    [theme=dark] .colab-df-convert {\n",
              "      background-color: #3B4455;\n",
              "      fill: #D2E3FC;\n",
              "    }\n",
              "\n",
              "    [theme=dark] .colab-df-convert:hover {\n",
              "      background-color: #434B5C;\n",
              "      box-shadow: 0px 1px 3px 1px rgba(0, 0, 0, 0.15);\n",
              "      filter: drop-shadow(0px 1px 2px rgba(0, 0, 0, 0.3));\n",
              "      fill: #FFFFFF;\n",
              "    }\n",
              "  </style>\n",
              "\n",
              "    <script>\n",
              "      const buttonEl =\n",
              "        document.querySelector('#df-ee20b72a-ac46-4b3b-b495-d61e6022d281 button.colab-df-convert');\n",
              "      buttonEl.style.display =\n",
              "        google.colab.kernel.accessAllowed ? 'block' : 'none';\n",
              "\n",
              "      async function convertToInteractive(key) {\n",
              "        const element = document.querySelector('#df-ee20b72a-ac46-4b3b-b495-d61e6022d281');\n",
              "        const dataTable =\n",
              "          await google.colab.kernel.invokeFunction('convertToInteractive',\n",
              "                                                    [key], {});\n",
              "        if (!dataTable) return;\n",
              "\n",
              "        const docLinkHtml = 'Like what you see? Visit the ' +\n",
              "          '<a target=\"_blank\" href=https://colab.research.google.com/notebooks/data_table.ipynb>data table notebook</a>'\n",
              "          + ' to learn more about interactive tables.';\n",
              "        element.innerHTML = '';\n",
              "        dataTable['output_type'] = 'display_data';\n",
              "        await google.colab.output.renderOutput(dataTable, element);\n",
              "        const docLink = document.createElement('div');\n",
              "        docLink.innerHTML = docLinkHtml;\n",
              "        element.appendChild(docLink);\n",
              "      }\n",
              "    </script>\n",
              "  </div>\n",
              "\n",
              "\n",
              "<div id=\"df-7d805c93-0694-4ea1-91a5-f1be1fcd9e09\">\n",
              "  <button class=\"colab-df-quickchart\" onclick=\"quickchart('df-7d805c93-0694-4ea1-91a5-f1be1fcd9e09')\"\n",
              "            title=\"Suggest charts.\"\n",
              "            style=\"display:none;\">\n",
              "\n",
              "<svg xmlns=\"http://www.w3.org/2000/svg\" height=\"24px\"viewBox=\"0 0 24 24\"\n",
              "     width=\"24px\">\n",
              "    <g>\n",
              "        <path d=\"M19 3H5c-1.1 0-2 .9-2 2v14c0 1.1.9 2 2 2h14c1.1 0 2-.9 2-2V5c0-1.1-.9-2-2-2zM9 17H7v-7h2v7zm4 0h-2V7h2v10zm4 0h-2v-4h2v4z\"/>\n",
              "    </g>\n",
              "</svg>\n",
              "  </button>\n",
              "\n",
              "<style>\n",
              "  .colab-df-quickchart {\n",
              "      --bg-color: #E8F0FE;\n",
              "      --fill-color: #1967D2;\n",
              "      --hover-bg-color: #E2EBFA;\n",
              "      --hover-fill-color: #174EA6;\n",
              "      --disabled-fill-color: #AAA;\n",
              "      --disabled-bg-color: #DDD;\n",
              "  }\n",
              "\n",
              "  [theme=dark] .colab-df-quickchart {\n",
              "      --bg-color: #3B4455;\n",
              "      --fill-color: #D2E3FC;\n",
              "      --hover-bg-color: #434B5C;\n",
              "      --hover-fill-color: #FFFFFF;\n",
              "      --disabled-bg-color: #3B4455;\n",
              "      --disabled-fill-color: #666;\n",
              "  }\n",
              "\n",
              "  .colab-df-quickchart {\n",
              "    background-color: var(--bg-color);\n",
              "    border: none;\n",
              "    border-radius: 50%;\n",
              "    cursor: pointer;\n",
              "    display: none;\n",
              "    fill: var(--fill-color);\n",
              "    height: 32px;\n",
              "    padding: 0;\n",
              "    width: 32px;\n",
              "  }\n",
              "\n",
              "  .colab-df-quickchart:hover {\n",
              "    background-color: var(--hover-bg-color);\n",
              "    box-shadow: 0 1px 2px rgba(60, 64, 67, 0.3), 0 1px 3px 1px rgba(60, 64, 67, 0.15);\n",
              "    fill: var(--button-hover-fill-color);\n",
              "  }\n",
              "\n",
              "  .colab-df-quickchart-complete:disabled,\n",
              "  .colab-df-quickchart-complete:disabled:hover {\n",
              "    background-color: var(--disabled-bg-color);\n",
              "    fill: var(--disabled-fill-color);\n",
              "    box-shadow: none;\n",
              "  }\n",
              "\n",
              "  .colab-df-spinner {\n",
              "    border: 2px solid var(--fill-color);\n",
              "    border-color: transparent;\n",
              "    border-bottom-color: var(--fill-color);\n",
              "    animation:\n",
              "      spin 1s steps(1) infinite;\n",
              "  }\n",
              "\n",
              "  @keyframes spin {\n",
              "    0% {\n",
              "      border-color: transparent;\n",
              "      border-bottom-color: var(--fill-color);\n",
              "      border-left-color: var(--fill-color);\n",
              "    }\n",
              "    20% {\n",
              "      border-color: transparent;\n",
              "      border-left-color: var(--fill-color);\n",
              "      border-top-color: var(--fill-color);\n",
              "    }\n",
              "    30% {\n",
              "      border-color: transparent;\n",
              "      border-left-color: var(--fill-color);\n",
              "      border-top-color: var(--fill-color);\n",
              "      border-right-color: var(--fill-color);\n",
              "    }\n",
              "    40% {\n",
              "      border-color: transparent;\n",
              "      border-right-color: var(--fill-color);\n",
              "      border-top-color: var(--fill-color);\n",
              "    }\n",
              "    60% {\n",
              "      border-color: transparent;\n",
              "      border-right-color: var(--fill-color);\n",
              "    }\n",
              "    80% {\n",
              "      border-color: transparent;\n",
              "      border-right-color: var(--fill-color);\n",
              "      border-bottom-color: var(--fill-color);\n",
              "    }\n",
              "    90% {\n",
              "      border-color: transparent;\n",
              "      border-bottom-color: var(--fill-color);\n",
              "    }\n",
              "  }\n",
              "</style>\n",
              "\n",
              "  <script>\n",
              "    async function quickchart(key) {\n",
              "      const quickchartButtonEl =\n",
              "        document.querySelector('#' + key + ' button');\n",
              "      quickchartButtonEl.disabled = true;  // To prevent multiple clicks.\n",
              "      quickchartButtonEl.classList.add('colab-df-spinner');\n",
              "      try {\n",
              "        const charts = await google.colab.kernel.invokeFunction(\n",
              "            'suggestCharts', [key], {});\n",
              "      } catch (error) {\n",
              "        console.error('Error during call to suggestCharts:', error);\n",
              "      }\n",
              "      quickchartButtonEl.classList.remove('colab-df-spinner');\n",
              "      quickchartButtonEl.classList.add('colab-df-quickchart-complete');\n",
              "    }\n",
              "    (() => {\n",
              "      let quickchartButtonEl =\n",
              "        document.querySelector('#df-7d805c93-0694-4ea1-91a5-f1be1fcd9e09 button');\n",
              "      quickchartButtonEl.style.display =\n",
              "        google.colab.kernel.accessAllowed ? 'block' : 'none';\n",
              "    })();\n",
              "  </script>\n",
              "</div>\n",
              "    </div>\n",
              "  </div>\n"
            ]
          },
          "metadata": {},
          "execution_count": 11
        }
      ],
      "source": [
        "data.head()"
      ]
    },
    {
      "cell_type": "code",
      "execution_count": 12,
      "id": "2e63c073",
      "metadata": {
        "colab": {
          "base_uri": "https://localhost:8080/"
        },
        "id": "2e63c073",
        "outputId": "63fc2b27-8fa6-433d-a062-80a970c588a4"
      },
      "outputs": [
        {
          "output_type": "stream",
          "name": "stderr",
          "text": [
            "WARNING:gensim.models.word2vec:Both hierarchical softmax and negative sampling are activated. This is probably a mistake. You should set either 'hs=0' or 'negative=0' to disable one of them. \n"
          ]
        }
      ],
      "source": [
        "# Train the Word2Vec model\n",
        "word2vec_model = train_word2vec_model(data['tokens'])\n",
        "\n",
        "# Convert text to word vectors\n",
        "data['vectors'] = data['tokens'].apply(lambda x: convert_text_to_vectors(x, word2vec_model))\n"
      ]
    },
    {
      "cell_type": "code",
      "execution_count": 13,
      "id": "31da3178",
      "metadata": {
        "colab": {
          "base_uri": "https://localhost:8080/"
        },
        "id": "31da3178",
        "outputId": "e463e418-196a-46ba-e5d1-b4cba7b748ad"
      },
      "outputs": [
        {
          "output_type": "stream",
          "name": "stdout",
          "text": [
            "similar to 'depression': [('anxiety', 0.5578041076660156), ('disorder', 0.496341347694397), ('gad', 0.48071008920669556), ('adhd', 0.45487821102142334), ('severe', 0.45462897419929504), ('depressionanxiety', 0.452343612909317)]\n"
          ]
        }
      ],
      "source": [
        "similar_words = word2vec_model.wv.most_similar(\"depression\", topn=6)\n",
        "print(\"similar to 'depression':\", similar_words)"
      ]
    },
    {
      "cell_type": "code",
      "execution_count": 14,
      "id": "8357ebb0",
      "metadata": {
        "colab": {
          "base_uri": "https://localhost:8080/"
        },
        "id": "8357ebb0",
        "outputId": "b9180103-6106-48b2-abb1-a40137fae0b7"
      },
      "outputs": [
        {
          "output_type": "stream",
          "name": "stdout",
          "text": [
            "              precision    recall  f1-score   support\n",
            "\n",
            "     Anxiety       0.84      0.79      0.82      2019\n",
            "  depression       0.80      0.84      0.82      1981\n",
            "\n",
            "    accuracy                           0.82      4000\n",
            "   macro avg       0.82      0.82      0.82      4000\n",
            "weighted avg       0.82      0.82      0.82      4000\n",
            "\n"
          ]
        }
      ],
      "source": [
        "# Split the dataset into training and testing sets\n",
        "X_train, X_test, y_train, y_test = train_test_split(data['vectors'], data['Subreddit'], test_size=0.2, random_state=42)\n",
        "\n",
        "# Train the SVM classifier\n",
        "svm = SVC(kernel='linear',C=1.0)\n",
        "svm.fit(list(X_train), y_train)\n",
        "\n",
        "# Evaluate the classifier\n",
        "y_pred = svm.predict(list(X_test))\n",
        "print(classification_report(y_test, y_pred))"
      ]
    },
    {
      "cell_type": "code",
      "execution_count": 15,
      "id": "a1b4e4e0",
      "metadata": {
        "colab": {
          "base_uri": "https://localhost:8080/",
          "height": 466
        },
        "id": "a1b4e4e0",
        "outputId": "8e295154-7e41-4245-e30f-82b5b7c0ebd8"
      },
      "outputs": [
        {
          "output_type": "stream",
          "name": "stdout",
          "text": [
            "0.8185\n"
          ]
        },
        {
          "output_type": "display_data",
          "data": {
            "text/plain": [
              "<Figure size 640x480 with 2 Axes>"
            ],
            "image/png": "[encoded data removed]"
          },
          "metadata": {}
        }
      ],
      "source": [
        "# evalution\n",
        "cm = confusion_matrix(y_test, y_pred)\n",
        "ConfusionMatrixDisplay(cm, display_labels=svm.classes_).plot()\n",
        "accuracy_sc=accuracy_score(y_test, y_pred)\n",
        "print(accuracy_sc)"
      ]
    },
    {
      "cell_type": "code",
      "execution_count": 16,
      "id": "ba4e979d",
      "metadata": {
        "colab": {
          "base_uri": "https://localhost:8080/"
        },
        "id": "ba4e979d",
        "outputId": "459bcbc1-1032-4cd9-8c13-3ba854c3cb30"
      },
      "outputs": [
        {
          "output_type": "stream",
          "name": "stdout",
          "text": [
            "              precision    recall  f1-score   support\n",
            "\n",
            "     Anxiety       0.83      0.79      0.81      2019\n",
            "  depression       0.80      0.83      0.81      1981\n",
            "\n",
            "    accuracy                           0.81      4000\n",
            "   macro avg       0.81      0.81      0.81      4000\n",
            "weighted avg       0.81      0.81      0.81      4000\n",
            "\n",
            "0.81225\n"
          ]
        }
      ],
      "source": [
        "# Train the Logistic Regression classifier\n",
        "lr = LogisticRegression(max_iter=1000, C=1.0, solver='liblinear')\n",
        "lr.fit(list(X_train), y_train)\n",
        "\n",
        "# Evaluate the classifier\n",
        "y_pred2 = lr.predict(list(X_test))\n",
        "print(classification_report(y_test, y_pred2))\n",
        "accuracy_sc2=accuracy_score(y_test, y_pred2)\n",
        "print(accuracy_sc2)"
      ]
    },
    {
      "cell_type": "code",
      "execution_count": 26,
      "id": "7e30eb47",
      "metadata": {
        "colab": {
          "base_uri": "https://localhost:8080/"
        },
        "id": "7e30eb47",
        "outputId": "fdfcadd9-cbc0-4cef-9c33-9cb8d0fe6809"
      },
      "outputs": [
        {
          "output_type": "stream",
          "name": "stdout",
          "text": [
            "              precision    recall  f1-score   support\n",
            "\n",
            "     Anxiety       0.83      0.79      0.81      2019\n",
            "  depression       0.80      0.83      0.81      1981\n",
            "\n",
            "    accuracy                           0.81      4000\n",
            "   macro avg       0.81      0.81      0.81      4000\n",
            "weighted avg       0.81      0.81      0.81      4000\n",
            "\n",
            "0.81225\n"
          ]
        }
      ],
      "source": [
        "# Train the Naive Bayes classifier\n",
        "nb = MultinomialNB()\n",
        "nb.fit(np.abs(list(X_train)), y_train)\n",
        "\n",
        "# Evaluate the classifier\n",
        "y_pred3 = lr.predict(list(X_test))\n",
        "print(classification_report(y_test, y_pred3))\n",
        "accuracy_sc2=accuracy_score(y_test, y_pred3)\n",
        "print(accuracy_sc2)"
      ]
    },
    {
      "cell_type": "code",
      "execution_count": null,
      "id": "b05129b5",
      "metadata": {
        "id": "b05129b5"
      },
      "outputs": [],
      "source": []
    },
    {
      "cell_type": "code",
      "execution_count": null,
      "id": "7bc93268",
      "metadata": {
        "id": "7bc93268"
      },
      "outputs": [],
      "source": []
    },
    {
      "cell_type": "code",
      "execution_count": null,
      "id": "b19afd08",
      "metadata": {
        "id": "b19afd08"
      },
      "outputs": [],
      "source": []
    }
  ],
  "metadata": {
    "kernelspec": {
      "display_name": "Python 3 (ipykernel)",
      "language": "python",
      "name": "python3"
    },
    "language_info": {
      "codemirror_mode": {
        "name": "ipython",
        "version": 3
      },
      "file_extension": ".py",
      "mimetype": "text/x-python",
      "name": "python",
      "nbconvert_exporter": "python",
      "pygments_lexer": "ipython3",
      "version": "3.9.12"
    },
    "colab": {
      "provenance": []
    }
  },
  "nbformat": 4,
  "nbformat_minor": 5
}